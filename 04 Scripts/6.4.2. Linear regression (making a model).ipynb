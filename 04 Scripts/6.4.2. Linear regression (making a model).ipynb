{
 "cells": [
  {
   "cell_type": "markdown",
   "id": "1c64f096",
   "metadata": {},
   "source": [
    "## 6.4.2. Linear regression - making a model"
   ]
  },
  {
   "cell_type": "markdown",
   "id": "c8ecb8e3",
   "metadata": {},
   "source": [
    "## Table of contents:\n",
    "### 1. Import libraries and dataset\n",
    "### 2. Build linear regression model - agric_gross_prod_value and total_emissions\n",
    "### 2.1. Prepare data for regression analysis\n",
    "### 2.2. Regression analysis\n",
    "##"
   ]
  },
  {
   "cell_type": "markdown",
   "id": "101e5906",
   "metadata": {},
   "source": [
    "### 1. Import libraries and dataset"
   ]
  },
  {
   "cell_type": "code",
   "execution_count": 1,
   "id": "36ef080a",
   "metadata": {},
   "outputs": [],
   "source": [
    "# Import libraries\n",
    "import pandas as pd\n",
    "import numpy as np\n",
    "import os\n",
    "import matplotlib.pyplot as plt\n",
    "import matplotlib\n",
    "import sklearn\n",
    "from sklearn.model_selection import train_test_split \n",
    "from sklearn.linear_model import LinearRegression\n",
    "from sklearn.metrics import mean_squared_error, r2_score\n",
    "import seaborn as sns"
   ]
  },
  {
   "cell_type": "code",
   "execution_count": 2,
   "id": "f947faea",
   "metadata": {},
   "outputs": [],
   "source": [
    "# Create path\n",
    "path = r'C:\\Users\\marta\\OneDrive\\Documents\\A6 Personal Project'"
   ]
  },
  {
   "cell_type": "code",
   "execution_count": 3,
   "id": "0ff65dae",
   "metadata": {},
   "outputs": [],
   "source": [
    "# Import dataset\n",
    "df = pd.read_csv(os.path.join(path, '02 Data', 'Prepared Data', 'emissions_macro_indicators_final.csv'))"
   ]
  },
  {
   "cell_type": "code",
   "execution_count": 4,
   "id": "2823690c",
   "metadata": {},
   "outputs": [
    {
     "data": {
      "text/plain": [
       "(3755, 15)"
      ]
     },
     "execution_count": 4,
     "metadata": {},
     "output_type": "execute_result"
    }
   ],
   "source": [
    "# Check output\n",
    "df.shape"
   ]
  },
  {
   "cell_type": "code",
   "execution_count": 5,
   "id": "134e2b39",
   "metadata": {},
   "outputs": [
    {
     "data": {
      "text/html": [
       "<div>\n",
       "<style scoped>\n",
       "    .dataframe tbody tr th:only-of-type {\n",
       "        vertical-align: middle;\n",
       "    }\n",
       "\n",
       "    .dataframe tbody tr th {\n",
       "        vertical-align: top;\n",
       "    }\n",
       "\n",
       "    .dataframe thead th {\n",
       "        text-align: right;\n",
       "    }\n",
       "</style>\n",
       "<table border=\"1\" class=\"dataframe\">\n",
       "  <thead>\n",
       "    <tr style=\"text-align: right;\">\n",
       "      <th></th>\n",
       "      <th>Unnamed: 0</th>\n",
       "      <th>country</th>\n",
       "      <th>year</th>\n",
       "      <th>country_code</th>\n",
       "      <th>temp_change</th>\n",
       "      <th>total_population</th>\n",
       "      <th>population_category</th>\n",
       "      <th>total_emissions</th>\n",
       "      <th>emissions_CO2</th>\n",
       "      <th>emissions_N2O</th>\n",
       "      <th>emissions_CH4</th>\n",
       "      <th>agric_export</th>\n",
       "      <th>agric_import</th>\n",
       "      <th>gdp</th>\n",
       "      <th>agric_gross_prod_value</th>\n",
       "    </tr>\n",
       "  </thead>\n",
       "  <tbody>\n",
       "    <tr>\n",
       "      <th>0</th>\n",
       "      <td>0</td>\n",
       "      <td>Afghanistan</td>\n",
       "      <td>2002</td>\n",
       "      <td>4</td>\n",
       "      <td>1.365</td>\n",
       "      <td>21000.256</td>\n",
       "      <td>Low population</td>\n",
       "      <td>695.719823</td>\n",
       "      <td>650.760809</td>\n",
       "      <td>0.524767</td>\n",
       "      <td>44.434247</td>\n",
       "      <td>35964.0</td>\n",
       "      <td>303167.0</td>\n",
       "      <td>4141.523943</td>\n",
       "      <td>3403032.0</td>\n",
       "    </tr>\n",
       "    <tr>\n",
       "      <th>1</th>\n",
       "      <td>1</td>\n",
       "      <td>Afghanistan</td>\n",
       "      <td>2003</td>\n",
       "      <td>4</td>\n",
       "      <td>0.587</td>\n",
       "      <td>22645.130</td>\n",
       "      <td>Low population</td>\n",
       "      <td>713.515557</td>\n",
       "      <td>662.122718</td>\n",
       "      <td>0.556194</td>\n",
       "      <td>50.836645</td>\n",
       "      <td>58782.0</td>\n",
       "      <td>451001.0</td>\n",
       "      <td>4729.042179</td>\n",
       "      <td>3403032.0</td>\n",
       "    </tr>\n",
       "    <tr>\n",
       "      <th>2</th>\n",
       "      <td>2</td>\n",
       "      <td>Afghanistan</td>\n",
       "      <td>2004</td>\n",
       "      <td>4</td>\n",
       "      <td>1.373</td>\n",
       "      <td>23553.551</td>\n",
       "      <td>Low population</td>\n",
       "      <td>704.272007</td>\n",
       "      <td>652.141129</td>\n",
       "      <td>0.494035</td>\n",
       "      <td>51.636843</td>\n",
       "      <td>64919.0</td>\n",
       "      <td>500790.0</td>\n",
       "      <td>5388.482107</td>\n",
       "      <td>3403032.0</td>\n",
       "    </tr>\n",
       "    <tr>\n",
       "      <th>3</th>\n",
       "      <td>3</td>\n",
       "      <td>Afghanistan</td>\n",
       "      <td>2005</td>\n",
       "      <td>4</td>\n",
       "      <td>0.401</td>\n",
       "      <td>24411.191</td>\n",
       "      <td>Low population</td>\n",
       "      <td>737.718469</td>\n",
       "      <td>679.839519</td>\n",
       "      <td>0.498897</td>\n",
       "      <td>57.380053</td>\n",
       "      <td>78944.0</td>\n",
       "      <td>743294.0</td>\n",
       "      <td>6220.574147</td>\n",
       "      <td>3403032.0</td>\n",
       "    </tr>\n",
       "    <tr>\n",
       "      <th>4</th>\n",
       "      <td>4</td>\n",
       "      <td>Afghanistan</td>\n",
       "      <td>2006</td>\n",
       "      <td>4</td>\n",
       "      <td>1.720</td>\n",
       "      <td>25442.944</td>\n",
       "      <td>Low population</td>\n",
       "      <td>771.563510</td>\n",
       "      <td>708.516693</td>\n",
       "      <td>0.512822</td>\n",
       "      <td>62.533995</td>\n",
       "      <td>79550.0</td>\n",
       "      <td>806212.0</td>\n",
       "      <td>7104.711445</td>\n",
       "      <td>3403032.0</td>\n",
       "    </tr>\n",
       "  </tbody>\n",
       "</table>\n",
       "</div>"
      ],
      "text/plain": [
       "   Unnamed: 0      country  year  country_code  temp_change  total_population  \\\n",
       "0           0  Afghanistan  2002             4        1.365         21000.256   \n",
       "1           1  Afghanistan  2003             4        0.587         22645.130   \n",
       "2           2  Afghanistan  2004             4        1.373         23553.551   \n",
       "3           3  Afghanistan  2005             4        0.401         24411.191   \n",
       "4           4  Afghanistan  2006             4        1.720         25442.944   \n",
       "\n",
       "  population_category  total_emissions  emissions_CO2  emissions_N2O  \\\n",
       "0      Low population       695.719823     650.760809       0.524767   \n",
       "1      Low population       713.515557     662.122718       0.556194   \n",
       "2      Low population       704.272007     652.141129       0.494035   \n",
       "3      Low population       737.718469     679.839519       0.498897   \n",
       "4      Low population       771.563510     708.516693       0.512822   \n",
       "\n",
       "   emissions_CH4  agric_export  agric_import          gdp  \\\n",
       "0      44.434247       35964.0      303167.0  4141.523943   \n",
       "1      50.836645       58782.0      451001.0  4729.042179   \n",
       "2      51.636843       64919.0      500790.0  5388.482107   \n",
       "3      57.380053       78944.0      743294.0  6220.574147   \n",
       "4      62.533995       79550.0      806212.0  7104.711445   \n",
       "\n",
       "   agric_gross_prod_value  \n",
       "0               3403032.0  \n",
       "1               3403032.0  \n",
       "2               3403032.0  \n",
       "3               3403032.0  \n",
       "4               3403032.0  "
      ]
     },
     "execution_count": 5,
     "metadata": {},
     "output_type": "execute_result"
    }
   ],
   "source": [
    "# Check output\n",
    "df.head()"
   ]
  },
  {
   "cell_type": "markdown",
   "id": "a679f88b",
   "metadata": {},
   "source": [
    "### 2. Build linear regression model - agric_gross_prod_value and total_emissions"
   ]
  },
  {
   "cell_type": "markdown",
   "id": "f4276909",
   "metadata": {},
   "source": [
    "### 2.1. Prepare data for regression analysis"
   ]
  },
  {
   "cell_type": "code",
   "execution_count": 6,
   "id": "95c1d75f",
   "metadata": {},
   "outputs": [
    {
     "data": {
      "image/png": "[encoded data removed]",
      "text/plain": [
       "<Figure size 640x480 with 1 Axes>"
      ]
     },
     "metadata": {},
     "output_type": "display_data"
    }
   ],
   "source": [
    "# Create a scatterplot for credit_to_agric and agric_import\n",
    "\n",
    "df.plot(x = 'agric_gross_prod_value', y='total_emissions',style='o') # The style option creates a scatterplot; without it, we only have lines.\n",
    "plt.title('Agriculture Gross Production Value vs Total Emissions')  \n",
    "plt.xlabel('Agriculture Gross Production Value')  \n",
    "plt.ylabel('Total Emissions')  \n",
    "plt.show()"
   ]
  },
  {
   "cell_type": "markdown",
   "id": "4c034739",
   "metadata": {},
   "source": [
    "#### Hypothesis: \n",
    "When agriculture gross production value increases, total greenhouse gas emissions go up as well."
   ]
  },
  {
   "cell_type": "code",
   "execution_count": 7,
   "id": "3a1f6df8",
   "metadata": {},
   "outputs": [],
   "source": [
    "# Reshape the variables into NumPy arrays and put them into separate objects\n",
    "X = df['agric_gross_prod_value'].values.reshape(-1,1)\n",
    "y = df['total_emissions'].values.reshape(-1,1)"
   ]
  },
  {
   "cell_type": "code",
   "execution_count": 8,
   "id": "545ff086",
   "metadata": {},
   "outputs": [
    {
     "data": {
      "text/plain": [
       "array([[3403032.],\n",
       "       [3403032.],\n",
       "       [3403032.],\n",
       "       ...,\n",
       "       [3403032.],\n",
       "       [3403032.],\n",
       "       [3403032.]])"
      ]
     },
     "execution_count": 8,
     "metadata": {},
     "output_type": "execute_result"
    }
   ],
   "source": [
    "# Check the result\n",
    "X"
   ]
  },
  {
   "cell_type": "code",
   "execution_count": 9,
   "id": "622b492b",
   "metadata": {},
   "outputs": [
    {
     "data": {
      "text/plain": [
       "array([[ 695.719823],\n",
       "       [ 713.515557],\n",
       "       [ 704.272007],\n",
       "       ...,\n",
       "       [1536.775703],\n",
       "       [1384.372886],\n",
       "       [1621.812144]])"
      ]
     },
     "execution_count": 9,
     "metadata": {},
     "output_type": "execute_result"
    }
   ],
   "source": [
    "# Check the result\n",
    "y"
   ]
  },
  {
   "cell_type": "code",
   "execution_count": 10,
   "id": "54ef4f73",
   "metadata": {},
   "outputs": [],
   "source": [
    "# Split data into a training set and a test set\n",
    "X_train, X_test, y_train, y_test = train_test_split(X, y, test_size=0.3, random_state=0)"
   ]
  },
  {
   "cell_type": "markdown",
   "id": "9f8cb631",
   "metadata": {},
   "source": [
    "### 2.2. Regression analysis"
   ]
  },
  {
   "cell_type": "code",
   "execution_count": 11,
   "id": "9e1e21ea",
   "metadata": {},
   "outputs": [],
   "source": [
    "# Create a regression object\n",
    "regression = LinearRegression()  # This is the regression object, which will be fit onto the training set."
   ]
  },
  {
   "cell_type": "code",
   "execution_count": 12,
   "id": "feb0334a",
   "metadata": {},
   "outputs": [
    {
     "data": {
      "text/html": [
       "<style>#sk-container-id-1 {color: black;}#sk-container-id-1 pre{padding: 0;}#sk-container-id-1 div.sk-toggleable {background-color: white;}#sk-container-id-1 label.sk-toggleable__label {cursor: pointer;display: block;width: 100%;margin-bottom: 0;padding: 0.3em;box-sizing: border-box;text-align: center;}#sk-container-id-1 label.sk-toggleable__label-arrow:before {content: \"▸\";float: left;margin-right: 0.25em;color: #696969;}#sk-container-id-1 label.sk-toggleable__label-arrow:hover:before {color: black;}#sk-container-id-1 div.sk-estimator:hover label.sk-toggleable__label-arrow:before {color: black;}#sk-container-id-1 div.sk-toggleable__content {max-height: 0;max-width: 0;overflow: hidden;text-align: left;background-color: #f0f8ff;}#sk-container-id-1 div.sk-toggleable__content pre {margin: 0.2em;color: black;border-radius: 0.25em;background-color: #f0f8ff;}#sk-container-id-1 input.sk-toggleable__control:checked~div.sk-toggleable__content {max-height: 200px;max-width: 100%;overflow: auto;}#sk-container-id-1 input.sk-toggleable__control:checked~label.sk-toggleable__label-arrow:before {content: \"▾\";}#sk-container-id-1 div.sk-estimator input.sk-toggleable__control:checked~label.sk-toggleable__label {background-color: #d4ebff;}#sk-container-id-1 div.sk-label input.sk-toggleable__control:checked~label.sk-toggleable__label {background-color: #d4ebff;}#sk-container-id-1 input.sk-hidden--visually {border: 0;clip: rect(1px 1px 1px 1px);clip: rect(1px, 1px, 1px, 1px);height: 1px;margin: -1px;overflow: hidden;padding: 0;position: absolute;width: 1px;}#sk-container-id-1 div.sk-estimator {font-family: monospace;background-color: #f0f8ff;border: 1px dotted black;border-radius: 0.25em;box-sizing: border-box;margin-bottom: 0.5em;}#sk-container-id-1 div.sk-estimator:hover {background-color: #d4ebff;}#sk-container-id-1 div.sk-parallel-item::after {content: \"\";width: 100%;border-bottom: 1px solid gray;flex-grow: 1;}#sk-container-id-1 div.sk-label:hover label.sk-toggleable__label {background-color: #d4ebff;}#sk-container-id-1 div.sk-serial::before {content: \"\";position: absolute;border-left: 1px solid gray;box-sizing: border-box;top: 0;bottom: 0;left: 50%;z-index: 0;}#sk-container-id-1 div.sk-serial {display: flex;flex-direction: column;align-items: center;background-color: white;padding-right: 0.2em;padding-left: 0.2em;position: relative;}#sk-container-id-1 div.sk-item {position: relative;z-index: 1;}#sk-container-id-1 div.sk-parallel {display: flex;align-items: stretch;justify-content: center;background-color: white;position: relative;}#sk-container-id-1 div.sk-item::before, #sk-container-id-1 div.sk-parallel-item::before {content: \"\";position: absolute;border-left: 1px solid gray;box-sizing: border-box;top: 0;bottom: 0;left: 50%;z-index: -1;}#sk-container-id-1 div.sk-parallel-item {display: flex;flex-direction: column;z-index: 1;position: relative;background-color: white;}#sk-container-id-1 div.sk-parallel-item:first-child::after {align-self: flex-end;width: 50%;}#sk-container-id-1 div.sk-parallel-item:last-child::after {align-self: flex-start;width: 50%;}#sk-container-id-1 div.sk-parallel-item:only-child::after {width: 0;}#sk-container-id-1 div.sk-dashed-wrapped {border: 1px dashed gray;margin: 0 0.4em 0.5em 0.4em;box-sizing: border-box;padding-bottom: 0.4em;background-color: white;}#sk-container-id-1 div.sk-label label {font-family: monospace;font-weight: bold;display: inline-block;line-height: 1.2em;}#sk-container-id-1 div.sk-label-container {text-align: center;}#sk-container-id-1 div.sk-container {/* jupyter's `normalize.less` sets `[hidden] { display: none; }` but bootstrap.min.css set `[hidden] { display: none !important; }` so we also need the `!important` here to be able to override the default hidden behavior on the sphinx rendered scikit-learn.org. See: https://github.com/scikit-learn/scikit-learn/issues/21755 */display: inline-block !important;position: relative;}#sk-container-id-1 div.sk-text-repr-fallback {display: none;}</style><div id=\"sk-container-id-1\" class=\"sk-top-container\"><div class=\"sk-text-repr-fallback\"><pre>LinearRegression()</pre><b>In a Jupyter environment, please rerun this cell to show the HTML representation or trust the notebook. <br />On GitHub, the HTML representation is unable to render, please try loading this page with nbviewer.org.</b></div><div class=\"sk-container\" hidden><div class=\"sk-item\"><div class=\"sk-estimator sk-toggleable\"><input class=\"sk-toggleable__control sk-hidden--visually\" id=\"sk-estimator-id-1\" type=\"checkbox\" checked><label for=\"sk-estimator-id-1\" class=\"sk-toggleable__label sk-toggleable__label-arrow\">LinearRegression</label><div class=\"sk-toggleable__content\"><pre>LinearRegression()</pre></div></div></div></div></div>"
      ],
      "text/plain": [
       "LinearRegression()"
      ]
     },
     "execution_count": 12,
     "metadata": {},
     "output_type": "execute_result"
    }
   ],
   "source": [
    "# Fit the regression object onto the training set\n",
    "regression.fit(X_train, y_train)"
   ]
  },
  {
   "cell_type": "code",
   "execution_count": 13,
   "id": "a0df9287",
   "metadata": {},
   "outputs": [],
   "source": [
    "# Predict the values of y using X\n",
    "y_predicted = regression.predict(X_test)"
   ]
  },
  {
   "cell_type": "code",
   "execution_count": 14,
   "id": "fa407537",
   "metadata": {},
   "outputs": [
    {
     "data": {
      "image/png": "[encoded data removed]",
      "text/plain": [
       "<Figure size 640x480 with 1 Axes>"
      ]
     },
     "metadata": {},
     "output_type": "display_data"
    }
   ],
   "source": [
    "# Create a plot that shows the regression line from the model on the test set\n",
    "plot_test = plt\n",
    "plot_test.scatter(X_test, y_test, color='gray', s = 15)\n",
    "plot_test.plot(X_test, y_predicted, color='red', linewidth =3)\n",
    "plot_test.title('Agriculture Gross Production Value vs Total Emissions (Test set)')\n",
    "plot_test.xlabel('Agriculture Gross Production Value')\n",
    "plot_test.ylabel('Total Emissions')\n",
    "plot_test.show()"
   ]
  },
  {
   "cell_type": "markdown",
   "id": "108ffe5c",
   "metadata": {},
   "source": [
    "The line doesn't seem to fit the data perfectly. There are lots of scattered points at the left side of the chart."
   ]
  },
  {
   "cell_type": "code",
   "execution_count": 15,
   "id": "55a1aa49",
   "metadata": {},
   "outputs": [],
   "source": [
    "# Create objects that contain the model summary statistics\n",
    "rmse = mean_squared_error(y_test, y_predicted) # This is the mean squared error\n",
    "r2 = r2_score(y_test, y_predicted) # This is the R2 score"
   ]
  },
  {
   "cell_type": "code",
   "execution_count": 16,
   "id": "6f68a210",
   "metadata": {},
   "outputs": [
    {
     "name": "stdout",
     "output_type": "stream",
     "text": [
      "Slope: [[0.0007573]]\n",
      "Mean squared error:  678850174.6170412\n",
      "R2 score:  0.8747038824615343\n"
     ]
    }
   ],
   "source": [
    "# Print the model summary statiscs\n",
    "print('Slope:' ,regression.coef_)\n",
    "print('Mean squared error: ', rmse)\n",
    "print('R2 score: ', r2)"
   ]
  },
  {
   "cell_type": "markdown",
   "id": "7d1ec693",
   "metadata": {},
   "source": [
    "When agriculture gross production value increases, total emissions increase by 0.0008. Mean squared error is very large, meaning the data is not described well by this model, even though the R2 is pretty high.  "
   ]
  },
  {
   "cell_type": "code",
   "execution_count": 17,
   "id": "366cae8d",
   "metadata": {},
   "outputs": [
    {
     "data": {
      "text/plain": [
       "array([[ 5169.90721808],\n",
       "       [ 4885.92097083],\n",
       "       [ 9265.7858998 ],\n",
       "       ...,\n",
       "       [ 3162.13424185],\n",
       "       [10165.85658394],\n",
       "       [19669.29539591]])"
      ]
     },
     "execution_count": 17,
     "metadata": {},
     "output_type": "execute_result"
    }
   ],
   "source": [
    "# Check predicted values\n",
    "y_predicted"
   ]
  },
  {
   "cell_type": "code",
   "execution_count": 18,
   "id": "6d536053",
   "metadata": {},
   "outputs": [
    {
     "data": {
      "text/html": [
       "<div>\n",
       "<style scoped>\n",
       "    .dataframe tbody tr th:only-of-type {\n",
       "        vertical-align: middle;\n",
       "    }\n",
       "\n",
       "    .dataframe tbody tr th {\n",
       "        vertical-align: top;\n",
       "    }\n",
       "\n",
       "    .dataframe thead th {\n",
       "        text-align: right;\n",
       "    }\n",
       "</style>\n",
       "<table border=\"1\" class=\"dataframe\">\n",
       "  <thead>\n",
       "    <tr style=\"text-align: right;\">\n",
       "      <th></th>\n",
       "      <th>Actual</th>\n",
       "      <th>Predicted</th>\n",
       "    </tr>\n",
       "  </thead>\n",
       "  <tbody>\n",
       "    <tr>\n",
       "      <th>0</th>\n",
       "      <td>4560.066020</td>\n",
       "      <td>5169.907218</td>\n",
       "    </tr>\n",
       "    <tr>\n",
       "      <th>1</th>\n",
       "      <td>1370.157405</td>\n",
       "      <td>4885.920971</td>\n",
       "    </tr>\n",
       "    <tr>\n",
       "      <th>2</th>\n",
       "      <td>1564.297532</td>\n",
       "      <td>9265.785900</td>\n",
       "    </tr>\n",
       "    <tr>\n",
       "      <th>3</th>\n",
       "      <td>499.177231</td>\n",
       "      <td>4730.459669</td>\n",
       "    </tr>\n",
       "    <tr>\n",
       "      <th>4</th>\n",
       "      <td>1908.070867</td>\n",
       "      <td>3790.492218</td>\n",
       "    </tr>\n",
       "    <tr>\n",
       "      <th>5</th>\n",
       "      <td>1443.613381</td>\n",
       "      <td>4394.821865</td>\n",
       "    </tr>\n",
       "    <tr>\n",
       "      <th>6</th>\n",
       "      <td>36202.342504</td>\n",
       "      <td>20323.025150</td>\n",
       "    </tr>\n",
       "    <tr>\n",
       "      <th>7</th>\n",
       "      <td>956.473074</td>\n",
       "      <td>5658.878314</td>\n",
       "    </tr>\n",
       "    <tr>\n",
       "      <th>8</th>\n",
       "      <td>23161.747256</td>\n",
       "      <td>11122.498237</td>\n",
       "    </tr>\n",
       "    <tr>\n",
       "      <th>9</th>\n",
       "      <td>5531.166056</td>\n",
       "      <td>5658.878314</td>\n",
       "    </tr>\n",
       "    <tr>\n",
       "      <th>10</th>\n",
       "      <td>441.377573</td>\n",
       "      <td>5658.878314</td>\n",
       "    </tr>\n",
       "    <tr>\n",
       "      <th>11</th>\n",
       "      <td>1179.137387</td>\n",
       "      <td>3948.345070</td>\n",
       "    </tr>\n",
       "    <tr>\n",
       "      <th>12</th>\n",
       "      <td>864.503478</td>\n",
       "      <td>5063.203834</td>\n",
       "    </tr>\n",
       "    <tr>\n",
       "      <th>13</th>\n",
       "      <td>1492.556243</td>\n",
       "      <td>3725.591722</td>\n",
       "    </tr>\n",
       "    <tr>\n",
       "      <th>14</th>\n",
       "      <td>19825.604559</td>\n",
       "      <td>10936.748017</td>\n",
       "    </tr>\n",
       "    <tr>\n",
       "      <th>15</th>\n",
       "      <td>11668.376194</td>\n",
       "      <td>14615.129451</td>\n",
       "    </tr>\n",
       "    <tr>\n",
       "      <th>16</th>\n",
       "      <td>545.183139</td>\n",
       "      <td>4308.362590</td>\n",
       "    </tr>\n",
       "    <tr>\n",
       "      <th>17</th>\n",
       "      <td>451.275247</td>\n",
       "      <td>5658.878314</td>\n",
       "    </tr>\n",
       "    <tr>\n",
       "      <th>18</th>\n",
       "      <td>2454.632090</td>\n",
       "      <td>5168.921215</td>\n",
       "    </tr>\n",
       "    <tr>\n",
       "      <th>19</th>\n",
       "      <td>1504.888159</td>\n",
       "      <td>4373.091180</td>\n",
       "    </tr>\n",
       "    <tr>\n",
       "      <th>20</th>\n",
       "      <td>2425.620226</td>\n",
       "      <td>3928.907484</td>\n",
       "    </tr>\n",
       "    <tr>\n",
       "      <th>21</th>\n",
       "      <td>875.080751</td>\n",
       "      <td>5658.878314</td>\n",
       "    </tr>\n",
       "    <tr>\n",
       "      <th>22</th>\n",
       "      <td>91457.319513</td>\n",
       "      <td>30410.735039</td>\n",
       "    </tr>\n",
       "    <tr>\n",
       "      <th>23</th>\n",
       "      <td>1309.640208</td>\n",
       "      <td>7112.607791</td>\n",
       "    </tr>\n",
       "    <tr>\n",
       "      <th>24</th>\n",
       "      <td>108819.112369</td>\n",
       "      <td>45584.670354</td>\n",
       "    </tr>\n",
       "    <tr>\n",
       "      <th>25</th>\n",
       "      <td>2264.132750</td>\n",
       "      <td>3818.503182</td>\n",
       "    </tr>\n",
       "    <tr>\n",
       "      <th>26</th>\n",
       "      <td>644.349687</td>\n",
       "      <td>4082.353615</td>\n",
       "    </tr>\n",
       "    <tr>\n",
       "      <th>27</th>\n",
       "      <td>525.192456</td>\n",
       "      <td>3085.322194</td>\n",
       "    </tr>\n",
       "    <tr>\n",
       "      <th>28</th>\n",
       "      <td>1473.389810</td>\n",
       "      <td>9048.253369</td>\n",
       "    </tr>\n",
       "    <tr>\n",
       "      <th>29</th>\n",
       "      <td>1802.822590</td>\n",
       "      <td>3504.961839</td>\n",
       "    </tr>\n",
       "  </tbody>\n",
       "</table>\n",
       "</div>"
      ],
      "text/plain": [
       "           Actual     Predicted\n",
       "0     4560.066020   5169.907218\n",
       "1     1370.157405   4885.920971\n",
       "2     1564.297532   9265.785900\n",
       "3      499.177231   4730.459669\n",
       "4     1908.070867   3790.492218\n",
       "5     1443.613381   4394.821865\n",
       "6    36202.342504  20323.025150\n",
       "7      956.473074   5658.878314\n",
       "8    23161.747256  11122.498237\n",
       "9     5531.166056   5658.878314\n",
       "10     441.377573   5658.878314\n",
       "11    1179.137387   3948.345070\n",
       "12     864.503478   5063.203834\n",
       "13    1492.556243   3725.591722\n",
       "14   19825.604559  10936.748017\n",
       "15   11668.376194  14615.129451\n",
       "16     545.183139   4308.362590\n",
       "17     451.275247   5658.878314\n",
       "18    2454.632090   5168.921215\n",
       "19    1504.888159   4373.091180\n",
       "20    2425.620226   3928.907484\n",
       "21     875.080751   5658.878314\n",
       "22   91457.319513  30410.735039\n",
       "23    1309.640208   7112.607791\n",
       "24  108819.112369  45584.670354\n",
       "25    2264.132750   3818.503182\n",
       "26     644.349687   4082.353615\n",
       "27     525.192456   3085.322194\n",
       "28    1473.389810   9048.253369\n",
       "29    1802.822590   3504.961839"
      ]
     },
     "execution_count": 18,
     "metadata": {},
     "output_type": "execute_result"
    }
   ],
   "source": [
    "# Create a dataframe comparing the actual and predicted values of y\n",
    "data = pd.DataFrame({'Actual': y_test.flatten(), 'Predicted': y_predicted.flatten()})\n",
    "data.head(30)"
   ]
  },
  {
   "cell_type": "markdown",
   "id": "f3003b14",
   "metadata": {},
   "source": [
    "Predicted results differ a lot from the actual ones. This difference, along with the mean squared error, tells me that the linear regression model doesn't describe the data in the best way. The relationship between these two variables might be described better by a non-linear regression model."
   ]
  },
  {
   "cell_type": "markdown",
   "id": "1282fbf1",
   "metadata": {},
   "source": [
    "##### Compare how the regression fits the training set"
   ]
  },
  {
   "cell_type": "code",
   "execution_count": 19,
   "id": "dba355ae",
   "metadata": {},
   "outputs": [],
   "source": [
    "# Predict\n",
    "y_predicted_train = regression.predict(X_train) # This is predicting X_train!"
   ]
  },
  {
   "cell_type": "code",
   "execution_count": 20,
   "id": "fe66854e",
   "metadata": {},
   "outputs": [],
   "source": [
    "rmse = mean_squared_error(y_train, y_predicted_train)\n",
    "r2 = r2_score(y_train, y_predicted_train)"
   ]
  },
  {
   "cell_type": "code",
   "execution_count": 21,
   "id": "3c9ac8fe",
   "metadata": {},
   "outputs": [
    {
     "name": "stdout",
     "output_type": "stream",
     "text": [
      "Slope: [[0.0007573]]\n",
      "Mean squared error:  590529684.9875554\n",
      "R2 score:  0.8764777151107415\n"
     ]
    }
   ],
   "source": [
    "print('Slope:' ,regression.coef_)\n",
    "print('Mean squared error: ', rmse)\n",
    "print('R2 score: ', r2)"
   ]
  },
  {
   "cell_type": "code",
   "execution_count": 22,
   "id": "26fbd117",
   "metadata": {},
   "outputs": [
    {
     "data": {
      "image/png": "[encoded data removed]",
      "text/plain": [
       "<Figure size 640x480 with 1 Axes>"
      ]
     },
     "metadata": {},
     "output_type": "display_data"
    }
   ],
   "source": [
    "# Visualizing the training set results.\n",
    "\n",
    "plot_test = plt\n",
    "plot_test.scatter(X_train, y_train, color='green', s = 15)\n",
    "plot_test.plot(X_train, y_predicted_train, color='red', linewidth =3)\n",
    "plot_test.title('Agriculture Gross Production Value vs Total Emissions (Train set)')\n",
    "plot_test.xlabel('Agriculture Gross Production Value')\n",
    "plot_test.ylabel('Total Emissions')\n",
    "plot_test.show()"
   ]
  }
 ],
 "metadata": {
  "kernelspec": {
   "display_name": "Python 3 (ipykernel)",
   "language": "python",
   "name": "python3"
  },
  "language_info": {
   "codemirror_mode": {
    "name": "ipython",
    "version": 3
   },
   "file_extension": ".py",
   "mimetype": "text/x-python",
   "name": "python",
   "nbconvert_exporter": "python",
   "pygments_lexer": "ipython3",
   "version": "3.11.4"
  }
 },
 "nbformat": 4,
 "nbformat_minor": 5
}
